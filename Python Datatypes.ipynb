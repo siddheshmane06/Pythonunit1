{
 "cells": [
  {
   "cell_type": "markdown",
   "metadata": {},
   "source": [
    "# Built-in Data Types\n",
    "In programming, data type is an important concept.\n",
    "\n",
    "Variables can store data of different types, and different types can do different things.\n",
    "\n",
    "Python has the following data types built-in by default, in these categories:\n",
    "\n",
    "<table>\n",
    "  <tbody ><tr>\n",
    "    <td style=\"width:160px;\">Text Type:</td>\n",
    "    <td><code class=\"w3-codespan\">str</code></td>\n",
    "  </tr>\n",
    "  <tr>\n",
    "    <td>Numeric Types:</td>\n",
    "    <td><code class=\"w3-codespan\">int</code>, <code class=\"w3-codespan\">float</code>,\n",
    "    <code class=\"w3-codespan\">complex</code></td>\n",
    "  </tr>\n",
    "  <tr>\n",
    "    <td>Sequence Types:</td>\n",
    "    <td><code class=\"w3-codespan\">list</code>, <code class=\"w3-codespan\">tuple</code>, \n",
    "    <code class=\"w3-codespan\">range</code></td>\n",
    "  </tr>\n",
    "  <tr>\n",
    "    <td>Mapping Type:</td>\n",
    "    <td><code class=\"w3-codespan\">dict</code></td>\n",
    "  </tr>\n",
    "  <tr>\n",
    "    <td>Set Types:</td>\n",
    "    <td><code class=\"w3-codespan\">set</code>, <code class=\"w3-codespan\">frozenset</code></td>\n",
    "  </tr>\n",
    "  <tr>\n",
    "    <td>Boolean Type:</td>\n",
    "    <td><code class=\"w3-codespan\">bool</code></td>\n",
    "  </tr>\n",
    "  <tr>\n",
    "    <td>Binary Types:</td>\n",
    "    <td><code class=\"w3-codespan\">bytes</code>, <code class=\"w3-codespan\">bytearray</code>, \n",
    "    <code class=\"w3-codespan\">memoryview</code></td>\n",
    "  </tr>\n",
    "  <tr>\n",
    "    <td>None Type:</td>\n",
    "    <td><code class=\"w3-codespan\">NoneType</code></td>\n",
    "  </tr>\n",
    "</tbody></table>"
   ]
  },
  {
   "cell_type": "markdown",
   "metadata": {},
   "source": [
    "## Setting the Data Type\n",
    "### In Python, the data type is set when you assign a value to a variable:\n",
    "# x = 20\t<b style=\"color:red\">int</b>\t\n",
    "# x = 20.5\tfloat\t\n",
    "# x = 1j\tcomplex\t\n",
    "# x = [\"apple\", \"banana\", \"cherry\"]\tlist\t\n",
    "# x = (\"apple\", \"banana\", \"cherry\")\ttuple\t\n",
    "# x = range(6)\trange\t\n",
    "# x = {\"name\" : \"John\", \"age\" : 36}\tdict\t\n",
    "# x = {\"apple\", \"banana\", \"cherry\"}\tset\t\n",
    "# x = frozenset({\"apple\", \"banana\", \"cherry\"})\tfrozenset\t\n",
    "# x = True\tbool\t\n",
    "# x = b\"Hello\"\tbytes\t\n",
    "# x = bytearray(5)\tbytearray\t\n",
    "# x = memoryview(bytes(5))\tmemoryview\t\n",
    "# x = None\tNoneType"
   ]
  },
  {
   "cell_type": "code",
   "execution_count": 12,
   "metadata": {},
   "outputs": [],
   "source": [
    "a = str(\"Hello World\")#str\t\n",
    "b = int(20)#int\n",
    "c = float(20.5)#float\t\n",
    "d = complex(1j)#complex\t\n",
    "e = list((\"apple\", \"banana\", \"cherry\"))#list\t\n",
    "f = tuple((\"apple\", \"banana\", \"cherry\"))#tuple\t\n",
    "g = range(6)#range\t\n",
    "h = dict(name=\"John\", age=36)#dict\t\n",
    "i = set((\"apple\", \"banana\", \"cherry\"))#set\t\n",
    "j = frozenset((\"apple\", \"banana\", \"cherry\"))\n",
    "#frozenset[Frozen set is just an immutable version of a Python set object.]\n",
    "k = bool(5)#bool\t\n",
    "l = bytes(5)#bytes\t\n",
    "\"\"\"\n",
    " a byte is a unit of data that is eight binary digits long. \n",
    "It can convert objects into bytes objects, or create empty bytes object of the specified size.\n",
    "\n",
    "The difference between bytes() and bytearray() is that bytes() returns an object\n",
    "that cannot be modified, and bytearray() returns an object that can be modified.\n",
    "\"\"\"\n",
    "m = bytearray(5)#bytearray\t\n",
    "n = memoryview(bytes(5)) #memoryview\n",
    "o = b'HEllo'\n",
    "p = None \n",
    "#The None keyword is used to define a null value, or no value at all.\n",
    "#None is not the same as 0, False, or an empty string."
   ]
  },
  {
   "cell_type": "code",
   "execution_count": 1,
   "metadata": {},
   "outputs": [
    {
     "name": "stdout",
     "output_type": "stream",
     "text": [
      "happy birthday jayesh\n"
     ]
    }
   ],
   "source": [
    "jayesh=str(\"happy birthday jayesh\")\n",
    "print(jayesh)"
   ]
  },
  {
   "cell_type": "code",
   "execution_count": null,
   "metadata": {},
   "outputs": [],
   "source": []
  }
 ],
 "metadata": {
  "kernelspec": {
   "display_name": "Python 3 (ipykernel)",
   "language": "python",
   "name": "python3"
  },
  "language_info": {
   "codemirror_mode": {
    "name": "ipython",
    "version": 3
   },
   "file_extension": ".py",
   "mimetype": "text/x-python",
   "name": "python",
   "nbconvert_exporter": "python",
   "pygments_lexer": "ipython3",
   "version": "3.9.12"
  }
 },
 "nbformat": 4,
 "nbformat_minor": 4
}
